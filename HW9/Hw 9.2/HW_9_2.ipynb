{
 "cells": [
  {
   "cell_type": "code",
   "execution_count": 1,
   "id": "7c9ee2da-06e8-48c6-94a9-3bb4c21df59a",
   "metadata": {},
   "outputs": [],
   "source": [
    "#Sri Jay Adarsh Gogineni 20025484"
   ]
  },
  {
   "cell_type": "code",
   "execution_count": 3,
   "id": "cb420d1b-d170-4574-b2ab-326c40dc521f",
   "metadata": {},
   "outputs": [],
   "source": [
    "from sklearn.model_selection import train_test_split\n",
    "from sklearn.preprocessing import StandardScaler\n",
    "from sklearn.svm import SVC\n",
    "from sklearn.metrics import classification_report, confusion_matrix\n",
    "import numpy as np\n",
    "import pandas as pd\n",
    "from sklearn.preprocessing import LabelEncoder\n",
    "from sklearn.cluster import KMeans"
   ]
  },
  {
   "cell_type": "code",
   "execution_count": 4,
   "id": "e5ae69f6-8a24-40bd-8d8d-5f804f540c70",
   "metadata": {},
   "outputs": [
    {
     "name": "stdout",
     "output_type": "stream",
     "text": [
      "cluster      0    1\n",
      "diagnosis          \n",
      "B          339   18\n",
      "M           36  176\n"
     ]
    }
   ],
   "source": [
    "# Load the dataset\n",
    "file_path = 'wisc_bc_ContinuousVar.csv'\n",
    "data = pd.read_csv(file_path)\n",
    "\n",
    "# Display the first few rows\n",
    "data.head()\n",
    "\n",
    "# Drop rows with missing values\n",
    "data.dropna(inplace=True)\n",
    "\n",
    "# Separate features and target\n",
    "X = data.drop(['id', 'diagnosis'], axis=1)\n",
    "y = data['diagnosis']\n",
    "\n",
    "# Scale the features\n",
    "scaler = StandardScaler()\n",
    "X_scaled = scaler.fit_transform(X)\n",
    "\n",
    "# Perform k-means clustering\n",
    "kmeans = KMeans(n_clusters=2,n_init=10 ,random_state=42)\n",
    "kmeans.fit(X_scaled)\n",
    "\n",
    "# Add the cluster labels to the original dataset\n",
    "data['cluster'] = kmeans.labels_\n",
    "\n",
    "# Tabulate the clustered rows against the 'diagnosis' column\n",
    "clustered_data = data.groupby(['diagnosis', 'cluster']).size().unstack(fill_value=0)\n",
    "print(clustered_data)"
   ]
  },
  {
   "cell_type": "code",
   "execution_count": null,
   "id": "22b0905f-54c4-45e2-99b4-8e45a49b702f",
   "metadata": {},
   "outputs": [],
   "source": []
  }
 ],
 "metadata": {
  "kernelspec": {
   "display_name": "Python 3 (ipykernel)",
   "language": "python",
   "name": "python3"
  },
  "language_info": {
   "codemirror_mode": {
    "name": "ipython",
    "version": 3
   },
   "file_extension": ".py",
   "mimetype": "text/x-python",
   "name": "python",
   "nbconvert_exporter": "python",
   "pygments_lexer": "ipython3",
   "version": "3.12.0"
  }
 },
 "nbformat": 4,
 "nbformat_minor": 5
}
