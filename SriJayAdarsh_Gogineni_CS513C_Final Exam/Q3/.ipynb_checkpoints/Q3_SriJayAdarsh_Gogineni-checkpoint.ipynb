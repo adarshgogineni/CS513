{
 "cells": [
  {
   "cell_type": "code",
   "execution_count": 11,
   "id": "82f0552c-5559-4916-8a91-87a62dc0e642",
   "metadata": {},
   "outputs": [],
   "source": [
    "#Sri Jay Adarsh Gogineni\n",
    "#20025484"
   ]
  },
  {
   "cell_type": "code",
   "execution_count": 12,
   "id": "f8055b9a-a209-4971-bd3f-617f079e4ce4",
   "metadata": {},
   "outputs": [],
   "source": [
    "from sklearn.cluster import KMeans\n",
    "import pandas as pd"
   ]
  },
  {
   "cell_type": "code",
   "execution_count": 13,
   "id": "6238dfce-d721-4635-b956-f39fcd293a27",
   "metadata": {},
   "outputs": [],
   "source": [
    "# Load the dataset\n",
    "df = pd.read_csv('NYNJ_zipcode_population.csv') "
   ]
  },
  {
   "cell_type": "code",
   "execution_count": 14,
   "id": "1dc49964-44e1-4922-8e1c-15e844df5c90",
   "metadata": {},
   "outputs": [],
   "source": [
    "# Select the 'Low_income' percent and 'Total_Pop' columns for clustering\n",
    "data_to_cluster = df[['Low_income', 'Total_Pop']]"
   ]
  },
  {
   "cell_type": "code",
   "execution_count": 15,
   "id": "40e0fbe3-4f02-4c4e-af3d-5657c76e373b",
   "metadata": {},
   "outputs": [
    {
     "data": {
      "text/html": [
       "<div>\n",
       "<style scoped>\n",
       "    .dataframe tbody tr th:only-of-type {\n",
       "        vertical-align: middle;\n",
       "    }\n",
       "\n",
       "    .dataframe tbody tr th {\n",
       "        vertical-align: top;\n",
       "    }\n",
       "\n",
       "    .dataframe thead th {\n",
       "        text-align: right;\n",
       "    }\n",
       "</style>\n",
       "<table border=\"1\" class=\"dataframe\">\n",
       "  <thead>\n",
       "    <tr style=\"text-align: right;\">\n",
       "      <th></th>\n",
       "      <th>STATEFIPS</th>\n",
       "      <th>STATE</th>\n",
       "      <th>zipcode</th>\n",
       "      <th>Low_income</th>\n",
       "      <th>Total_Pop</th>\n",
       "    </tr>\n",
       "  </thead>\n",
       "  <tbody>\n",
       "    <tr>\n",
       "      <th>0</th>\n",
       "      <td>34</td>\n",
       "      <td>NJ</td>\n",
       "      <td>7002</td>\n",
       "      <td>35.31</td>\n",
       "      <td>31780</td>\n",
       "    </tr>\n",
       "    <tr>\n",
       "      <th>1</th>\n",
       "      <td>34</td>\n",
       "      <td>NJ</td>\n",
       "      <td>7029</td>\n",
       "      <td>38.40</td>\n",
       "      <td>9140</td>\n",
       "    </tr>\n",
       "    <tr>\n",
       "      <th>2</th>\n",
       "      <td>34</td>\n",
       "      <td>NJ</td>\n",
       "      <td>7030</td>\n",
       "      <td>12.60</td>\n",
       "      <td>29050</td>\n",
       "    </tr>\n",
       "    <tr>\n",
       "      <th>3</th>\n",
       "      <td>34</td>\n",
       "      <td>NJ</td>\n",
       "      <td>7032</td>\n",
       "      <td>38.40</td>\n",
       "      <td>18880</td>\n",
       "    </tr>\n",
       "    <tr>\n",
       "      <th>4</th>\n",
       "      <td>34</td>\n",
       "      <td>NJ</td>\n",
       "      <td>7047</td>\n",
       "      <td>42.16</td>\n",
       "      <td>29200</td>\n",
       "    </tr>\n",
       "  </tbody>\n",
       "</table>\n",
       "</div>"
      ],
      "text/plain": [
       "   STATEFIPS STATE  zipcode  Low_income  Total_Pop\n",
       "0         34    NJ     7002       35.31      31780\n",
       "1         34    NJ     7029       38.40       9140\n",
       "2         34    NJ     7030       12.60      29050\n",
       "3         34    NJ     7032       38.40      18880\n",
       "4         34    NJ     7047       42.16      29200"
      ]
     },
     "execution_count": 15,
     "metadata": {},
     "output_type": "execute_result"
    }
   ],
   "source": [
    "df.head()"
   ]
  },
  {
   "cell_type": "code",
   "execution_count": 16,
   "id": "fb342306-03a1-4f30-acb9-b2169b681aad",
   "metadata": {},
   "outputs": [
    {
     "data": {
      "text/html": [
       "<div>\n",
       "<style scoped>\n",
       "    .dataframe tbody tr th:only-of-type {\n",
       "        vertical-align: middle;\n",
       "    }\n",
       "\n",
       "    .dataframe tbody tr th {\n",
       "        vertical-align: top;\n",
       "    }\n",
       "\n",
       "    .dataframe thead th {\n",
       "        text-align: right;\n",
       "    }\n",
       "</style>\n",
       "<table border=\"1\" class=\"dataframe\">\n",
       "  <thead>\n",
       "    <tr style=\"text-align: right;\">\n",
       "      <th></th>\n",
       "      <th>Low_income</th>\n",
       "      <th>Total_Pop</th>\n",
       "    </tr>\n",
       "  </thead>\n",
       "  <tbody>\n",
       "    <tr>\n",
       "      <th>0</th>\n",
       "      <td>35.31</td>\n",
       "      <td>31780</td>\n",
       "    </tr>\n",
       "    <tr>\n",
       "      <th>1</th>\n",
       "      <td>38.40</td>\n",
       "      <td>9140</td>\n",
       "    </tr>\n",
       "    <tr>\n",
       "      <th>2</th>\n",
       "      <td>12.60</td>\n",
       "      <td>29050</td>\n",
       "    </tr>\n",
       "    <tr>\n",
       "      <th>3</th>\n",
       "      <td>38.40</td>\n",
       "      <td>18880</td>\n",
       "    </tr>\n",
       "    <tr>\n",
       "      <th>4</th>\n",
       "      <td>42.16</td>\n",
       "      <td>29200</td>\n",
       "    </tr>\n",
       "  </tbody>\n",
       "</table>\n",
       "</div>"
      ],
      "text/plain": [
       "   Low_income  Total_Pop\n",
       "0       35.31      31780\n",
       "1       38.40       9140\n",
       "2       12.60      29050\n",
       "3       38.40      18880\n",
       "4       42.16      29200"
      ]
     },
     "execution_count": 16,
     "metadata": {},
     "output_type": "execute_result"
    }
   ],
   "source": [
    "data_to_cluster.head()"
   ]
  },
  {
   "cell_type": "code",
   "execution_count": 17,
   "id": "6d197efb-b0f9-4bf8-a9a4-d59e2f005ca0",
   "metadata": {},
   "outputs": [],
   "source": [
    "# Perform KMeans clustering\n",
    "kmeans = KMeans(n_clusters=5,n_init='auto', random_state=0).fit(data_to_cluster)"
   ]
  },
  {
   "cell_type": "code",
   "execution_count": 18,
   "id": "9b556ca1-493d-4f94-a6c4-c1b0f9b0fdd7",
   "metadata": {},
   "outputs": [],
   "source": [
    "# Add the cluster labels to your dataframe\n",
    "df['Cluster_Label'] = kmeans.labels_"
   ]
  },
  {
   "cell_type": "code",
   "execution_count": 20,
   "id": "94c11542-665f-4cc0-86ac-ef8aff9775af",
   "metadata": {},
   "outputs": [],
   "source": [
    "#see which zip codes are in which clusters\n",
    "cluster_members = df.groupby('Cluster_Label')['zipcode'].apply(list) "
   ]
  },
  {
   "cell_type": "code",
   "execution_count": 21,
   "id": "93a0ffc3-98ac-4887-a5fc-f5b346321bca",
   "metadata": {},
   "outputs": [
    {
     "name": "stdout",
     "output_type": "stream",
     "text": [
      "Cluster 0: [7311, 6390, 10004, 10005, 10006, 10007, 10018, 10044, 10069, 10119, 10162, 10165, 10170, 10280, 10282, 10307, 10464, 10474, 10501, 10502, 10503, 10504, 10505, 10506, 10507, 10510, 10511, 10514, 10516, 10517, 10518, 10519, 10520, 10522, 10523, 10524, 10526, 10527, 10528, 10532, 10533, 10535, 10536, 10537, 10545, 10546, 10547, 10548, 10553, 10560, 10570, 10576, 10577, 10578, 10579, 10588, 10589, 10590, 10594, 10595, 10596, 10597, 10601, 10604, 10607, 10706, 10707, 10709, 10803, 10913, 10914, 10915, 10916, 10917, 10918, 10919, 10920, 10921, 10922, 10923, 10924, 10925, 10926, 10927, 10928, 10930, 10931, 10932, 10933, 10953, 10958, 10962, 10963, 10964, 10968, 10969, 10970, 10973, 10974, 10975, 10976, 10979, 10983, 10984, 10985, 10986, 10987, 10988, 10989, 10992, 10993, 10994, 10996, 10998, 11004, 11005, 11020, 11023, 11024, 11042, 11096, 11109, 11363, 11366, 11430, 11507, 11509, 11514, 11516, 11518, 11545, 11547, 11548, 11557, 11558, 11559, 11560, 11565, 11568, 11569, 11576, 11577, 11579, 11596, 11598, 11693, 11697, 11705, 11709, 11713, 11715, 11716, 11718, 11719, 11721, 11724, 11732, 11739, 11740, 11742, 11749, 11752, 11753, 11755, 11764, 11765, 11766, 11769, 11770, 11771, 11777, 11778, 11786, 11789, 11790, 11792, 11796, 11797, 11804, 11930, 11931, 11932, 11933, 11934, 11935, 11939, 11940, 11941, 11942, 11944, 11947, 11948, 11951, 11952, 11953, 11954, 11955, 11956, 11957, 11958, 11959, 11960, 11962, 11963, 11964, 11965, 11968, 11970, 11971, 11972, 11973, 11975, 11976, 11977, 11978, 11980, 12501, 12512, 12514, 12518, 12520, 12522, 12527, 12531, 12538, 12540, 12543, 12545, 12546, 12549, 12563, 12564, 12566, 12567, 12569, 12570, 12571, 12572, 12574, 12575, 12577, 12578, 12580, 12581, 12582, 12583, 12585, 12586, 12592, 12594, 12729, 12746, 12771, 12780]\n",
      "Cluster 1: [7002, 7030, 7047, 7087, 7093, 7305, 7306, 10003, 10009, 10011, 10016, 10023, 10024, 10027, 10029, 10031, 10032, 10033, 10128, 10306, 10312, 10452, 10453, 10457, 10458, 10463, 10466, 10468, 10469, 10472, 10473, 10701, 11201, 11203, 11204, 11206, 11209, 11210, 11211, 11212, 11213, 11215, 11216, 11218, 11219, 11223, 11225, 11229, 11230, 11233, 11238, 11354, 11372, 11375, 11432, 11434, 11435, 11550, 11706, 11717, 11746, 11758]\n",
      "Cluster 2: [10002, 10025, 10314, 10456, 10462, 10467, 11207, 11208, 11214, 11220, 11221, 11226, 11234, 11235, 11236, 11355, 11368, 11373, 11377, 11385]\n",
      "Cluster 3: [7032, 7302, 7304, 7307, 10010, 10014, 10019, 10021, 10022, 10026, 10028, 10034, 10036, 10040, 10065, 10301, 10304, 10305, 10451, 10454, 10455, 10459, 10460, 10461, 10465, 10475, 10550, 10562, 10573, 10583, 10704, 10705, 10801, 10940, 10950, 10956, 10977, 11003, 11040, 11101, 11102, 11103, 11105, 11106, 11205, 11217, 11222, 11224, 11228, 11231, 11237, 11357, 11358, 11364, 11365, 11367, 11369, 11374, 11378, 11379, 11412, 11413, 11418, 11419, 11420, 11421, 11422, 11433, 11510, 11520, 11554, 11561, 11566, 11572, 11580, 11590, 11691, 11704, 11710, 11722, 11735, 11743, 11756, 11757, 11772, 11779, 11787, 11793, 11801, 12550, 12590, 12601, 12603]\n",
      "Cluster 4: [7029, 7086, 7094, 7310, 10001, 10012, 10013, 10017, 10030, 10035, 10037, 10038, 10039, 10075, 10302, 10303, 10308, 10309, 10310, 10470, 10471, 10509, 10512, 10530, 10538, 10541, 10543, 10549, 10552, 10566, 10567, 10580, 10591, 10598, 10603, 10605, 10606, 10703, 10708, 10710, 10804, 10805, 10901, 10941, 10952, 10954, 10960, 10965, 10980, 10990, 11001, 11010, 11021, 11030, 11050, 11104, 11232, 11239, 11356, 11360, 11361, 11362, 11370, 11411, 11414, 11415, 11416, 11417, 11423, 11426, 11427, 11428, 11429, 11436, 11501, 11530, 11542, 11552, 11553, 11563, 11570, 11575, 11581, 11692, 11694, 11701, 11702, 11703, 11714, 11720, 11725, 11726, 11727, 11729, 11730, 11731, 11733, 11738, 11741, 11747, 11751, 11754, 11762, 11763, 11767, 11768, 11776, 11780, 11782, 11783, 11784, 11788, 11791, 11795, 11798, 11803, 11901, 11937, 11946, 11949, 11950, 11961, 11967, 12508, 12524, 12533, 12553]\n"
     ]
    }
   ],
   "source": [
    "# Print the members of each cluster\n",
    "for label, members in cluster_members.items():\n",
    "    print(f\"Cluster {label}: {members}\")"
   ]
  },
  {
   "cell_type": "markdown",
   "id": "413d26c3-2231-41cf-b5b1-c69856392389",
   "metadata": {},
   "source": [
    "# Results\n",
    "## Cluster 0: Contains a diverse collection of zip codes, likely representing a mix of demographic profiles.\n",
    "## Cluster 1: Also includes a wide range of zip codes, suggesting another diverse group.\n",
    "## Cluster 2: Has a smaller number of zip codes, which might indicate these areas share similar demographic characteristics that are distinct from those in the larger clusters.\n",
    "## Cluster 3: Similar to Cluster 2, contains fewer zip codes and may represent a particular demographic profile.\n",
    "## Cluster 4: With the smallest number of zip codes, it might contain areas that are the most demographically distinct compared to the other clusters."
   ]
  },
  {
   "cell_type": "code",
   "execution_count": null,
   "id": "9831377a-601f-404e-8a0e-1dbf3ed174e0",
   "metadata": {},
   "outputs": [],
   "source": []
  }
 ],
 "metadata": {
  "kernelspec": {
   "display_name": "Python 3 (ipykernel)",
   "language": "python",
   "name": "python3"
  },
  "language_info": {
   "codemirror_mode": {
    "name": "ipython",
    "version": 3
   },
   "file_extension": ".py",
   "mimetype": "text/x-python",
   "name": "python",
   "nbconvert_exporter": "python",
   "pygments_lexer": "ipython3",
   "version": "3.12.0"
  }
 },
 "nbformat": 4,
 "nbformat_minor": 5
}
