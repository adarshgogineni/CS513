{
 "cells": [
  {
   "cell_type": "code",
   "execution_count": 1,
   "id": "c012c478-8d44-4a19-9517-2cef79042bdd",
   "metadata": {},
   "outputs": [],
   "source": [
    "#Sri Jay Adarsh Gogineni CWID:20025484"
   ]
  },
  {
   "cell_type": "code",
   "execution_count": 7,
   "id": "58b51fc6-dbcf-4f83-ac53-b4e376c7dab9",
   "metadata": {},
   "outputs": [],
   "source": [
    "import pandas as pd\n",
    "from sklearn.model_selection import train_test_split\n",
    "from sklearn.preprocessing import LabelEncoder, StandardScaler\n",
    "from sklearn.naive_bayes import GaussianNB\n",
    "from sklearn.metrics import accuracy_score, f1_score, recall_score"
   ]
  },
  {
   "cell_type": "code",
   "execution_count": 8,
   "id": "d9b9b2c1-32bb-4e1a-9ff8-83e63cc5370b",
   "metadata": {},
   "outputs": [],
   "source": [
    "# Load the dataset\n",
    "data = pd.read_csv('BP.CSV')"
   ]
  },
  {
   "cell_type": "code",
   "execution_count": 9,
   "id": "e23f6df8-e5af-4dee-b726-0b94e8ec8042",
   "metadata": {},
   "outputs": [],
   "source": [
    "# Encode categorical variables\n",
    "label_encoder = LabelEncoder()\n",
    "data['Smoker'] = label_encoder.fit_transform(data['Somker'])\n",
    "data['Gender'] = label_encoder.fit_transform(data['Gender'])\n",
    "data['BP_Status'] = label_encoder.fit_transform(data['BP_Status'])"
   ]
  },
  {
   "cell_type": "code",
   "execution_count": 10,
   "id": "9f203a3d-218a-4194-9bc4-0a7c7aa711fb",
   "metadata": {},
   "outputs": [],
   "source": [
    "# Normalize features (age, weight, and height) using StandardScaler\n",
    "scaler = StandardScaler()\n",
    "data[['Age', 'Weight', 'Height']] = scaler.fit_transform(data[['Age', 'Weight', 'Height']])"
   ]
  },
  {
   "cell_type": "code",
   "execution_count": 14,
   "id": "36548353-33bc-4364-9575-f9b3e8b3fed2",
   "metadata": {},
   "outputs": [
    {
     "name": "stdout",
     "output_type": "stream",
     "text": [
      "          Somker  Gender       Age    Height    Weight  BP_Status  Smoker\n",
      "0  1- Non-smoker       0 -1.854919 -0.654843 -0.541670          1       0\n",
      "1  1- Non-smoker       0 -0.448457 -1.419416  1.322561          0       0\n",
      "2    3- Moderate       0  1.426826 -0.724350 -0.817853          0       2\n",
      "3  1- Non-smoker       0 -0.682867  0.248743  0.079740          1       0\n",
      "4  1- Non-smoker       0  1.544031 -0.863363 -0.852375          0       0\n"
     ]
    }
   ],
   "source": [
    "#Display few rows of data\n",
    "print(data.head())"
   ]
  },
  {
   "cell_type": "code",
   "execution_count": 15,
   "id": "ded6f45c-af4a-4fae-8cb4-333ba7f4da01",
   "metadata": {},
   "outputs": [],
   "source": [
    "#TRAIN MODEL\n",
    "# Split the data into training and testing sets (30% for testing)\n",
    "X = data[['Smoker', 'Gender', 'Age', 'Height', 'Weight']]\n",
    "y = data['BP_Status']\n",
    "X_train, X_test, y_train, y_test = train_test_split(X, y, test_size=0.3, random_state=42)\n",
    "\n",
    "# Create and train the Gaussian NB classifier\n",
    "gnb = GaussianNB()\n",
    "gnb.fit(X_train, y_train)\n",
    "\n",
    "# Predict on the test data\n",
    "y_pred = gnb.predict(X_test)\n"
   ]
  },
  {
   "cell_type": "code",
   "execution_count": 16,
   "id": "661e9959-df49-43a9-ba32-90c8353a274c",
   "metadata": {},
   "outputs": [
    {
     "name": "stdout",
     "output_type": "stream",
     "text": [
      "Accuracy: 0.63\n",
      "F1 Score: 0.63\n",
      "Recall: 0.63\n",
      "\n",
      "Classification Report:\n",
      "              precision    recall  f1-score   support\n",
      "\n",
      "           0       0.62      0.68      0.65       658\n",
      "           1       0.65      0.59      0.62       663\n",
      "\n",
      "    accuracy                           0.63      1321\n",
      "   macro avg       0.63      0.63      0.63      1321\n",
      "weighted avg       0.63      0.63      0.63      1321\n",
      "\n"
     ]
    }
   ],
   "source": [
    "# Calculate metrics\n",
    "accuracy = accuracy_score(y_test, y_pred)\n",
    "f1 = f1_score(y_test, y_pred, average='weighted')\n",
    "recall = recall_score(y_test, y_pred, average='weighted')\n",
    "\n",
    "# Display model metrics\n",
    "print(f\"Accuracy: {accuracy:.2f}\")\n",
    "print(f\"F1 Score: {f1:.2f}\")\n",
    "print(f\"Recall: {recall:.2f}\")\n",
    "\n",
    "# Display a classification report\n",
    "print(\"\\nClassification Report:\")\n",
    "print(classification_report(y_test, y_pred))"
   ]
  },
  {
   "cell_type": "code",
   "execution_count": null,
   "id": "28e8e543-87f9-4165-8799-1e12c8e2c024",
   "metadata": {},
   "outputs": [],
   "source": []
  }
 ],
 "metadata": {
  "kernelspec": {
   "display_name": "Python 3 (ipykernel)",
   "language": "python",
   "name": "python3"
  },
  "language_info": {
   "codemirror_mode": {
    "name": "ipython",
    "version": 3
   },
   "file_extension": ".py",
   "mimetype": "text/x-python",
   "name": "python",
   "nbconvert_exporter": "python",
   "pygments_lexer": "ipython3",
   "version": "3.12.0"
  }
 },
 "nbformat": 4,
 "nbformat_minor": 5
}
