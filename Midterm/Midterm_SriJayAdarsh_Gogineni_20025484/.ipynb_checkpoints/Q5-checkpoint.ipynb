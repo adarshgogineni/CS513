{
 "cells": [
  {
   "cell_type": "code",
   "execution_count": 43,
   "id": "dd3c3ccb-9677-43e9-9f1a-6c372eaff331",
   "metadata": {},
   "outputs": [],
   "source": [
    "#Sri Jay Adarsh Gogineni CWID:20025484"
   ]
  },
  {
   "cell_type": "code",
   "execution_count": 44,
   "id": "2329a85e-d40c-48ea-b46e-34851750bb10",
   "metadata": {},
   "outputs": [],
   "source": [
    "import pandas as pd\n",
    "import pandas as pd\n",
    "from sklearn.model_selection import train_test_split\n",
    "from sklearn.tree import DecisionTreeClassifier\n",
    "from sklearn.metrics import accuracy_score, f1_score, recall_score, classification_report"
   ]
  },
  {
   "cell_type": "code",
   "execution_count": 45,
   "id": "ba6a6355-29ff-4245-bd90-45c158fc5c74",
   "metadata": {},
   "outputs": [],
   "source": [
    "# Load the data\n",
    "df = pd.read_csv('BP.csv')\n",
    "#We want to categorize the age, height, and weight columns as they are continuous \n",
    "age_bins = [10, 20, 30, 40, 50, 60, 70, 80]\n",
    "height_bins = [50, 60, 70, 80]\n",
    "weight_bins = [100, 150, 200]"
   ]
  },
  {
   "cell_type": "code",
   "execution_count": 46,
   "id": "09041b6c-7c42-4d7f-8882-df8c949878c9",
   "metadata": {},
   "outputs": [],
   "source": [
    "#Create the labels based on ranges \n",
    "age_labels = ['10-20', '20-30', '30-40', '40-50', '50-60', '60-70', '70-80']\n",
    "height_labels = ['50-60', '60-70', '70-80']\n",
    "weight_labels = ['100-150', '150-200']"
   ]
  },
  {
   "cell_type": "code",
   "execution_count": 47,
   "id": "bb4a4303-0288-44dc-8737-d54cde8ec537",
   "metadata": {},
   "outputs": [],
   "source": [
    "#Add to the Data Frame\n",
    "df['Age_Category'] = pd.cut(df['Age'], bins=age_bins, labels=age_labels)\n",
    "df['Height_Category'] = pd.cut(df['Height'], bins=height_bins, labels=height_labels)\n",
    "df['Weight_Category'] = pd.cut(df['Weight'], bins=weight_bins, labels=weight_labels)"
   ]
  },
  {
   "cell_type": "code",
   "execution_count": 48,
   "id": "f6832794-95b1-407c-adee-29affcf48090",
   "metadata": {},
   "outputs": [
    {
     "name": "stdout",
     "output_type": "stream",
     "text": [
      "  BP_Status  Somker_2- Light  Somker_3- Moderate  Somker_4- Heavy  \\\n",
      "0    Normal            False               False            False   \n",
      "1      High            False               False            False   \n",
      "2      High            False                True            False   \n",
      "3    Normal            False               False            False   \n",
      "4      High            False               False            False   \n",
      "\n",
      "   Somker_5- Very Heavy  Gender_Male  Age_Category_20-30  Age_Category_30-40  \\\n",
      "0                 False        False                True               False   \n",
      "1                 False        False               False               False   \n",
      "2                 False        False               False               False   \n",
      "3                 False        False               False                True   \n",
      "4                 False        False               False               False   \n",
      "\n",
      "   Age_Category_40-50  Age_Category_50-60  Age_Category_60-70  \\\n",
      "0               False               False               False   \n",
      "1                True               False               False   \n",
      "2               False                True               False   \n",
      "3               False               False               False   \n",
      "4               False                True               False   \n",
      "\n",
      "   Age_Category_70-80  Height_Category_60-70  Height_Category_70-80  \\\n",
      "0               False                   True                  False   \n",
      "1               False                  False                  False   \n",
      "2               False                   True                  False   \n",
      "3               False                   True                  False   \n",
      "4               False                   True                  False   \n",
      "\n",
      "   Weight_Category_150-200  \n",
      "0                    False  \n",
      "1                     True  \n",
      "2                    False  \n",
      "3                     True  \n",
      "4                    False  \n"
     ]
    }
   ],
   "source": [
    "#Drop out original columns as we dont need them anymore\n",
    "df = df.drop(['Age', 'Height', 'Weight'], axis=1)\n",
    "\n",
    "#Encode our new categorical columns\n",
    "df = pd.get_dummies(df, columns=['Somker', 'Gender', 'Age_Category', 'Height_Category', 'Weight_Category'], drop_first=True)\n",
    "\n",
    "#display first few rows\n",
    "print(df.head())"
   ]
  },
  {
   "cell_type": "code",
   "execution_count": 49,
   "id": "ed2527a8-eee6-4a0b-8753-2f5af84ad4bd",
   "metadata": {},
   "outputs": [
    {
     "name": "stdout",
     "output_type": "stream",
     "text": [
      "Accuracy: 0.60\n",
      "F1 Score: 0.59\n",
      "Recall: 0.60\n",
      "\n",
      "Classification Report:\n",
      "              precision    recall  f1-score   support\n",
      "\n",
      "        High       0.58      0.69      0.63       658\n",
      "      Normal       0.62      0.51      0.56       663\n",
      "\n",
      "    accuracy                           0.60      1321\n",
      "   macro avg       0.60      0.60      0.59      1321\n",
      "weighted avg       0.60      0.60      0.59      1321\n",
      "\n"
     ]
    }
   ],
   "source": [
    "#Train CART MODEL\n",
    "\n",
    "# Split the data into features (X) and target (y)\n",
    "X = df.drop('BP_Status', axis=1)\n",
    "y = df['BP_Status']\n",
    "\n",
    "# Split the data into training (70%) and testing (30%) sets\n",
    "X_train, X_test, y_train, y_test = train_test_split(X, y, test_size=0.3, random_state=42)\n",
    "\n",
    "# Initialize the Decision Tree Classifier\n",
    "clf = DecisionTreeClassifier(random_state=42)\n",
    "\n",
    "# Fit the model on the training data\n",
    "clf.fit(X_train, y_train)\n",
    "\n",
    "# Predict the target values on the test data\n",
    "y_pred = clf.predict(X_test)\n",
    "\n",
    "# Calculate model metrics\n",
    "accuracy = accuracy_score(y_test, y_pred)\n",
    "f1 = f1_score(y_test, y_pred, average='weighted')\n",
    "recall = recall_score(y_test, y_pred, average='weighted')\n",
    "\n",
    "# Display the model metrics\n",
    "print(f\"Accuracy: {accuracy:.2f}\")\n",
    "print(f\"F1 Score: {f1:.2f}\")\n",
    "print(f\"Recall: {recall:.2f}\")\n",
    "\n",
    "\n",
    "# Display a classification report\n",
    "print(\"\\nClassification Report:\")\n",
    "print(classification_report(y_test, y_pred))"
   ]
  },
  {
   "cell_type": "code",
   "execution_count": null,
   "id": "e2b4dd78-64e5-41b1-9a04-3aec241278b1",
   "metadata": {},
   "outputs": [],
   "source": []
  }
 ],
 "metadata": {
  "kernelspec": {
   "display_name": "Python 3 (ipykernel)",
   "language": "python",
   "name": "python3"
  },
  "language_info": {
   "codemirror_mode": {
    "name": "ipython",
    "version": 3
   },
   "file_extension": ".py",
   "mimetype": "text/x-python",
   "name": "python",
   "nbconvert_exporter": "python",
   "pygments_lexer": "ipython3",
   "version": "3.12.0"
  }
 },
 "nbformat": 4,
 "nbformat_minor": 5
}
