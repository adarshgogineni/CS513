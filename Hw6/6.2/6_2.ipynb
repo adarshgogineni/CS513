{
 "cells": [
  {
   "cell_type": "code",
   "execution_count": 6,
   "id": "4fd37eaa-cf38-4413-9c39-8f8e76d4812e",
   "metadata": {},
   "outputs": [
    {
     "name": "stdout",
     "output_type": "stream",
     "text": [
      "Accuracy: 0.948905109489051\n",
      "Classification Report:\n",
      "               precision    recall  f1-score   support\n",
      "\n",
      "           2       0.93      0.99      0.96        79\n",
      "           4       0.98      0.90      0.94        58\n",
      "\n",
      "    accuracy                           0.95       137\n",
      "   macro avg       0.95      0.94      0.95       137\n",
      "weighted avg       0.95      0.95      0.95       137\n",
      "\n",
      "Feature Importance:\n",
      "F2: 0.3555\n",
      "F3: 0.2231\n",
      "F6: 0.1247\n",
      "F7: 0.1002\n",
      "F8: 0.0895\n",
      "F1: 0.0378\n",
      "F5: 0.0366\n",
      "F4: 0.0233\n",
      "F9: 0.0093\n"
     ]
    }
   ],
   "source": [
    "import pandas as pd\n",
    "from sklearn.model_selection import train_test_split\n",
    "from sklearn.ensemble import RandomForestClassifier\n",
    "from sklearn.metrics import accuracy_score, classification_report\n",
    "\n",
    "# Load the dataset\n",
    "# Replace 'your_dataset.csv' with the actual file name or path\n",
    "data = pd.read_csv('breast-cancer-wisconsin.csv')\n",
    "\n",
    "# Drop '?'\n",
    "data = data[~data.isin(['?']).any(axis=1)]\n",
    "\n",
    "# Convert the features to category type\n",
    "categorical_features = ['F1', 'F2', 'F3', 'F4', 'F5', 'F6', 'F7', 'F8', 'F9']\n",
    "data[categorical_features] = data[categorical_features].astype('category')\n",
    "\n",
    "# Split data into features and target\n",
    "X = data[categorical_features]\n",
    "y = data['Class']\n",
    "\n",
    "# Train-Test Split\n",
    "X_train, X_test, y_train, y_test = train_test_split(X, y, test_size=0.2, random_state=42)\n",
    "\n",
    "# Initialize the Random Forest model\n",
    "random_forest_model = RandomForestClassifier(n_estimators=100, random_state=42)\n",
    "random_forest_model.fit(X_train, y_train)\n",
    "\n",
    "# Make predictions\n",
    "predictions = random_forest_model.predict(X_test)\n",
    "\n",
    "# Evaluate the model\n",
    "print(\"Accuracy:\", accuracy_score(y_test, predictions))\n",
    "print(\"Classification Report:\\n\", classification_report(y_test, predictions))\n",
    "\n",
    "# Feature Importance\n",
    "importances = random_forest_model.feature_importances_\n",
    "feature_importance = sorted(zip(importances, categorical_features), reverse=True)\n",
    "print(\"Feature Importance:\")\n",
    "for importance, feature in feature_importance:\n",
    "    print(f\"{feature}: {importance:.4f}\")\n"
   ]
  },
  {
   "cell_type": "code",
   "execution_count": null,
   "id": "a28e98bc-a153-417a-8689-a09e2bcf1274",
   "metadata": {},
   "outputs": [],
   "source": []
  }
 ],
 "metadata": {
  "kernelspec": {
   "display_name": "Python 3 (ipykernel)",
   "language": "python",
   "name": "python3"
  },
  "language_info": {
   "codemirror_mode": {
    "name": "ipython",
    "version": 3
   },
   "file_extension": ".py",
   "mimetype": "text/x-python",
   "name": "python",
   "nbconvert_exporter": "python",
   "pygments_lexer": "ipython3",
   "version": "3.12.0"
  }
 },
 "nbformat": 4,
 "nbformat_minor": 5
}
