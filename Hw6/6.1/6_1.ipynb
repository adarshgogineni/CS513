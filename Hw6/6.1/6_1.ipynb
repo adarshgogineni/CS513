{
 "cells": [
  {
   "cell_type": "code",
   "execution_count": 8,
   "id": "1f4e6121-a21d-4c45-93f0-ec1d17af3cc6",
   "metadata": {},
   "outputs": [],
   "source": [
    "#Sri Jay Adarsh Gogineni \n",
    "#CWID: 20025484\n",
    "#HW_06 #6.1"
   ]
  },
  {
   "cell_type": "code",
   "execution_count": 9,
   "id": "2f713df8-1733-4011-b848-054c66fb4292",
   "metadata": {},
   "outputs": [],
   "source": [
    "# Step 1: Import Libraries\n",
    "import pandas as pd\n",
    "from sklearn.tree import DecisionTreeClassifier\n",
    "from sklearn.model_selection import train_test_split\n",
    "from sklearn.metrics import accuracy_score, confusion_matrix, classification_report\n"
   ]
  },
  {
   "cell_type": "code",
   "execution_count": 10,
   "id": "6b908804-8d19-4eb9-a95a-0f2fb21a215b",
   "metadata": {},
   "outputs": [
    {
     "name": "stdout",
     "output_type": "stream",
     "text": [
      "Index(['Sample', 'F1', 'F2', 'F3', 'F4', 'F5', 'F6', 'F7', 'F8', 'F9',\n",
      "       'Class'],\n",
      "      dtype='object')\n"
     ]
    }
   ],
   "source": [
    "\n",
    "# Step 2: Load and Prepare the Dataset\n",
    "# Assuming the dataset is in a CSV file named 'breast_cancer_data.csv'\n",
    "data = pd.read_csv('breast-cancer-wisconsin.csv')\n",
    "\n",
    "print(data.columns)\n",
    "#drop data with ?\n",
    "data = data[~data.isin(['?']).any(axis=1)]\n",
    "\n"
   ]
  },
  {
   "cell_type": "code",
   "execution_count": 11,
   "id": "37a8a533-bf86-4e46-a18a-e93812591c42",
   "metadata": {},
   "outputs": [],
   "source": [
    "\n",
    "# Convert the features to category type\n",
    "categorical_features = ['F1', 'F2', 'F3', 'F4', 'F5', 'F6', 'F7', 'F8', 'F9']\n",
    "data[categorical_features] = data[categorical_features].astype('category')\n"
   ]
  },
  {
   "cell_type": "code",
   "execution_count": 12,
   "id": "78fdb99d-1ed1-4f79-ae5c-55d4d2d4f3f8",
   "metadata": {},
   "outputs": [],
   "source": [
    "\n",
    "# Separate features and target\n",
    "X = data[categorical_features]\n",
    "y = data['Class']\n",
    "\n"
   ]
  },
  {
   "cell_type": "code",
   "execution_count": 13,
   "id": "7edf3593-893b-4167-b34c-7746f3e82b8a",
   "metadata": {},
   "outputs": [],
   "source": [
    "# Step 3: Train the Decision Tree Model - In python this is the c5.0 algorithm\n",
    "X_train, X_test, y_train, y_test = train_test_split(X, y, test_size=0.2, random_state=42)\n",
    "model = DecisionTreeClassifier()\n",
    "model.fit(X_train, y_train)\n",
    "predictions = model.predict(X_test)\n"
   ]
  },
  {
   "cell_type": "code",
   "execution_count": 14,
   "id": "820aadbe-017d-458c-a722-c75d65eaea29",
   "metadata": {},
   "outputs": [
    {
     "name": "stdout",
     "output_type": "stream",
     "text": [
      "Accuracy: 0.9343065693430657\n",
      "Confusion Matrix:\n",
      " [[77  2]\n",
      " [ 7 51]]\n",
      "Classification Report:\n",
      "               precision    recall  f1-score   support\n",
      "\n",
      "           2       0.92      0.97      0.94        79\n",
      "           4       0.96      0.88      0.92        58\n",
      "\n",
      "    accuracy                           0.93       137\n",
      "   macro avg       0.94      0.93      0.93       137\n",
      "weighted avg       0.94      0.93      0.93       137\n",
      "\n"
     ]
    }
   ],
   "source": [
    "\n",
    "# Step 4: Evaluate the Model\n",
    "print(\"Accuracy:\", accuracy_score(y_test, predictions))\n",
    "print(\"Confusion Matrix:\\n\", confusion_matrix(y_test, predictions))\n",
    "print(\"Classification Report:\\n\", classification_report(y_test, predictions))\n"
   ]
  }
 ],
 "metadata": {
  "kernelspec": {
   "display_name": "Python 3 (ipykernel)",
   "language": "python",
   "name": "python3"
  },
  "language_info": {
   "codemirror_mode": {
    "name": "ipython",
    "version": 3
   },
   "file_extension": ".py",
   "mimetype": "text/x-python",
   "name": "python",
   "nbconvert_exporter": "python",
   "pygments_lexer": "ipython3",
   "version": "3.12.0"
  }
 },
 "nbformat": 4,
 "nbformat_minor": 5
}
