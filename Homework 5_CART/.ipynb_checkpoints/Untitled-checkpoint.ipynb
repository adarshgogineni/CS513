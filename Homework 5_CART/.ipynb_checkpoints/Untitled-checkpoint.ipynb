{
 "cells": [
  {
   "cell_type": "code",
   "execution_count": 2,
   "id": "ff1cff20-c150-4048-983d-2144093261c5",
   "metadata": {},
   "outputs": [],
   "source": [
    "# First Name  : Sri Jay Adarsh\n",
    "# Last Name   : Gogineni\n",
    "# CWID        : 20025484\n",
    "# Purpose     : Homework 5"
   ]
  },
  {
   "cell_type": "code",
   "execution_count": 3,
   "id": "0fad697f-c3ff-471f-b7b2-35e56491b1dc",
   "metadata": {},
   "outputs": [],
   "source": [
    "import pandas as pd\n",
    "import numpy as np\n",
    "from sklearn.model_selection import train_test_split\n",
    "from sklearn.tree import DecisionTreeClassifier\n",
    "from sklearn.metrics import accuracy_score, confusion_matrix"
   ]
  },
  {
   "cell_type": "code",
   "execution_count": 5,
   "id": "2061c06a-f700-478e-9ab0-d3cd42df624d",
   "metadata": {},
   "outputs": [],
   "source": [
    "# Load the dataset\n",
    "df = pd.read_csv(\"breast-cancer-wisconsin.csv\")"
   ]
  },
  {
   "cell_type": "code",
   "execution_count": 6,
   "id": "1749f41c-8bdf-4d51-b551-8973a78d9538",
   "metadata": {},
   "outputs": [
    {
     "name": "stdout",
     "output_type": "stream",
     "text": [
      "    Sample  F1  F2  F3  F4  F5  F6  F7  F8  F9  Class\n",
      "0  1000025   5   1   1   1   2   1   3   1   1      2\n",
      "1  1002945   5   4   4   5   7  10   3   2   1      2\n",
      "2  1015425   3   1   1   1   2   2   3   1   1      2\n",
      "3  1016277   6   8   8   1   3   4   3   7   1      2\n",
      "4  1017023   4   1   1   3   2   1   3   1   1      2\n"
     ]
    }
   ],
   "source": [
    "# Display the first 5 rows\n",
    "print(df.head())"
   ]
  },
  {
   "cell_type": "code",
   "execution_count": 7,
   "id": "5a232d63-5b06-4e0c-a4b3-4d74f4a3111d",
   "metadata": {},
   "outputs": [
    {
     "name": "stdout",
     "output_type": "stream",
     "text": [
      "             Sample          F1          F2          F3          F4  \\\n",
      "count  6.990000e+02  699.000000  699.000000  699.000000  699.000000   \n",
      "mean   1.071704e+06    4.417740    3.134478    3.207439    2.806867   \n",
      "std    6.170957e+05    2.815741    3.051459    2.971913    2.855379   \n",
      "min    6.163400e+04    1.000000    1.000000    1.000000    1.000000   \n",
      "25%    8.706885e+05    2.000000    1.000000    1.000000    1.000000   \n",
      "50%    1.171710e+06    4.000000    1.000000    1.000000    1.000000   \n",
      "75%    1.238298e+06    6.000000    5.000000    5.000000    4.000000   \n",
      "max    1.345435e+07   10.000000   10.000000   10.000000   10.000000   \n",
      "\n",
      "               F5          F7          F8          F9       Class  \n",
      "count  699.000000  699.000000  699.000000  699.000000  699.000000  \n",
      "mean     3.216023    3.437768    2.866953    1.589413    2.689557  \n",
      "std      2.214300    2.438364    3.053634    1.715078    0.951273  \n",
      "min      1.000000    1.000000    1.000000    1.000000    2.000000  \n",
      "25%      2.000000    2.000000    1.000000    1.000000    2.000000  \n",
      "50%      2.000000    3.000000    1.000000    1.000000    2.000000  \n",
      "75%      4.000000    5.000000    4.000000    1.000000    4.000000  \n",
      "max     10.000000   10.000000   10.000000   10.000000    4.000000  \n"
     ]
    }
   ],
   "source": [
    "# Summarize each column (e.g., min, max, mean)\n",
    "print(df.describe())"
   ]
  },
  {
   "cell_type": "code",
   "execution_count": 8,
   "id": "7d3b265a-91a6-41b7-8e76-14daa21f220f",
   "metadata": {},
   "outputs": [],
   "source": [
    "# Convert column F6 to numeric\n",
    "df['F6'] = pd.to_numeric(df['F6'], errors='coerce')"
   ]
  },
  {
   "cell_type": "code",
   "execution_count": 9,
   "id": "b7b07099-a19e-415c-878e-569afb930e6a",
   "metadata": {},
   "outputs": [
    {
     "name": "stdout",
     "output_type": "stream",
     "text": [
      "Number of rows before removing missing values: 699\n"
     ]
    }
   ],
   "source": [
    "# Check the number of rows before removing missing values\n",
    "print(\"Number of rows before removing missing values:\", len(df))"
   ]
  },
  {
   "cell_type": "code",
   "execution_count": 10,
   "id": "a8c3f557-75c4-40a1-87a1-2184b12bcca4",
   "metadata": {},
   "outputs": [
    {
     "name": "stdout",
     "output_type": "stream",
     "text": [
      "Number of rows after removing missing values: 683\n"
     ]
    }
   ],
   "source": [
    "# Remove rows with missing values\n",
    "df.dropna(inplace=True)\n",
    "\n",
    "# Check the number of rows after removing missing values\n",
    "print(\"Number of rows after removing missing values:\", len(df))"
   ]
  },
  {
   "cell_type": "code",
   "execution_count": 11,
   "id": "1461bfc1-af75-44d5-ba0e-838cba0bd1dd",
   "metadata": {},
   "outputs": [
    {
     "name": "stdout",
     "output_type": "stream",
     "text": [
      "category\n"
     ]
    }
   ],
   "source": [
    "# Convert 'Class' labels to factor class\n",
    "df['Class'] = df['Class'].map({2: 'Benign', 4: 'Malignant'}).astype('category')\n",
    "\n",
    "# Check if 'Class' is a factor class\n",
    "print(df['Class'].dtype)"
   ]
  },
  {
   "cell_type": "code",
   "execution_count": 12,
   "id": "5f529b7d-f8b0-4bfd-8f59-2f0ddc6cf65e",
   "metadata": {},
   "outputs": [],
   "source": [
    "# Splitting the data into 70% train and 30% test\n",
    "X = df.iloc[:, 1:-1]  # Features (excluding the 'Class' column)\n",
    "y = df['Class']       # Target variable\n",
    "X_train, X_test, y_train, y_test = train_test_split(X, y, test_size=0.3, random_state=123)"
   ]
  },
  {
   "cell_type": "code",
   "execution_count": 13,
   "id": "d1133b52-d92b-4af5-8df7-c7b49fe6cc20",
   "metadata": {},
   "outputs": [
    {
     "data": {
      "text/html": [
       "<style>#sk-container-id-1 {color: black;}#sk-container-id-1 pre{padding: 0;}#sk-container-id-1 div.sk-toggleable {background-color: white;}#sk-container-id-1 label.sk-toggleable__label {cursor: pointer;display: block;width: 100%;margin-bottom: 0;padding: 0.3em;box-sizing: border-box;text-align: center;}#sk-container-id-1 label.sk-toggleable__label-arrow:before {content: \"▸\";float: left;margin-right: 0.25em;color: #696969;}#sk-container-id-1 label.sk-toggleable__label-arrow:hover:before {color: black;}#sk-container-id-1 div.sk-estimator:hover label.sk-toggleable__label-arrow:before {color: black;}#sk-container-id-1 div.sk-toggleable__content {max-height: 0;max-width: 0;overflow: hidden;text-align: left;background-color: #f0f8ff;}#sk-container-id-1 div.sk-toggleable__content pre {margin: 0.2em;color: black;border-radius: 0.25em;background-color: #f0f8ff;}#sk-container-id-1 input.sk-toggleable__control:checked~div.sk-toggleable__content {max-height: 200px;max-width: 100%;overflow: auto;}#sk-container-id-1 input.sk-toggleable__control:checked~label.sk-toggleable__label-arrow:before {content: \"▾\";}#sk-container-id-1 div.sk-estimator input.sk-toggleable__control:checked~label.sk-toggleable__label {background-color: #d4ebff;}#sk-container-id-1 div.sk-label input.sk-toggleable__control:checked~label.sk-toggleable__label {background-color: #d4ebff;}#sk-container-id-1 input.sk-hidden--visually {border: 0;clip: rect(1px 1px 1px 1px);clip: rect(1px, 1px, 1px, 1px);height: 1px;margin: -1px;overflow: hidden;padding: 0;position: absolute;width: 1px;}#sk-container-id-1 div.sk-estimator {font-family: monospace;background-color: #f0f8ff;border: 1px dotted black;border-radius: 0.25em;box-sizing: border-box;margin-bottom: 0.5em;}#sk-container-id-1 div.sk-estimator:hover {background-color: #d4ebff;}#sk-container-id-1 div.sk-parallel-item::after {content: \"\";width: 100%;border-bottom: 1px solid gray;flex-grow: 1;}#sk-container-id-1 div.sk-label:hover label.sk-toggleable__label {background-color: #d4ebff;}#sk-container-id-1 div.sk-serial::before {content: \"\";position: absolute;border-left: 1px solid gray;box-sizing: border-box;top: 0;bottom: 0;left: 50%;z-index: 0;}#sk-container-id-1 div.sk-serial {display: flex;flex-direction: column;align-items: center;background-color: white;padding-right: 0.2em;padding-left: 0.2em;position: relative;}#sk-container-id-1 div.sk-item {position: relative;z-index: 1;}#sk-container-id-1 div.sk-parallel {display: flex;align-items: stretch;justify-content: center;background-color: white;position: relative;}#sk-container-id-1 div.sk-item::before, #sk-container-id-1 div.sk-parallel-item::before {content: \"\";position: absolute;border-left: 1px solid gray;box-sizing: border-box;top: 0;bottom: 0;left: 50%;z-index: -1;}#sk-container-id-1 div.sk-parallel-item {display: flex;flex-direction: column;z-index: 1;position: relative;background-color: white;}#sk-container-id-1 div.sk-parallel-item:first-child::after {align-self: flex-end;width: 50%;}#sk-container-id-1 div.sk-parallel-item:last-child::after {align-self: flex-start;width: 50%;}#sk-container-id-1 div.sk-parallel-item:only-child::after {width: 0;}#sk-container-id-1 div.sk-dashed-wrapped {border: 1px dashed gray;margin: 0 0.4em 0.5em 0.4em;box-sizing: border-box;padding-bottom: 0.4em;background-color: white;}#sk-container-id-1 div.sk-label label {font-family: monospace;font-weight: bold;display: inline-block;line-height: 1.2em;}#sk-container-id-1 div.sk-label-container {text-align: center;}#sk-container-id-1 div.sk-container {/* jupyter's `normalize.less` sets `[hidden] { display: none; }` but bootstrap.min.css set `[hidden] { display: none !important; }` so we also need the `!important` here to be able to override the default hidden behavior on the sphinx rendered scikit-learn.org. See: https://github.com/scikit-learn/scikit-learn/issues/21755 */display: inline-block !important;position: relative;}#sk-container-id-1 div.sk-text-repr-fallback {display: none;}</style><div id=\"sk-container-id-1\" class=\"sk-top-container\"><div class=\"sk-text-repr-fallback\"><pre>DecisionTreeClassifier()</pre><b>In a Jupyter environment, please rerun this cell to show the HTML representation or trust the notebook. <br />On GitHub, the HTML representation is unable to render, please try loading this page with nbviewer.org.</b></div><div class=\"sk-container\" hidden><div class=\"sk-item\"><div class=\"sk-estimator sk-toggleable\"><input class=\"sk-toggleable__control sk-hidden--visually\" id=\"sk-estimator-id-1\" type=\"checkbox\" checked><label for=\"sk-estimator-id-1\" class=\"sk-toggleable__label sk-toggleable__label-arrow\">DecisionTreeClassifier</label><div class=\"sk-toggleable__content\"><pre>DecisionTreeClassifier()</pre></div></div></div></div></div>"
      ],
      "text/plain": [
       "DecisionTreeClassifier()"
      ]
     },
     "execution_count": 13,
     "metadata": {},
     "output_type": "execute_result"
    }
   ],
   "source": [
    "# Implementing CART (Decision Tree)\n",
    "cart = DecisionTreeClassifier(criterion='gini')\n",
    "cart.fit(X_train, y_train)"
   ]
  },
  {
   "cell_type": "code",
   "execution_count": 14,
   "id": "964f7d73-7f3a-4e8a-b073-4949c09b0671",
   "metadata": {},
   "outputs": [
    {
     "name": "stdout",
     "output_type": "stream",
     "text": [
      "205\n",
      "205\n"
     ]
    }
   ],
   "source": [
    "# Predicting class for the test set\n",
    "predicted = cart.predict(X_test)\n",
    "print(len(predicted))\n",
    "print(len(y_test))"
   ]
  },
  {
   "cell_type": "code",
   "execution_count": 15,
   "id": "1fd46f9d-3ec6-4e40-aed7-dc2786aaacb5",
   "metadata": {},
   "outputs": [
    {
     "name": "stdout",
     "output_type": "stream",
     "text": [
      "[[129   3]\n",
      " [  3  70]]\n"
     ]
    }
   ],
   "source": [
    "# Creating a confusion matrix\n",
    "conf_matrix = confusion_matrix(predicted, y_test)\n",
    "print(conf_matrix)"
   ]
  },
  {
   "cell_type": "code",
   "execution_count": 16,
   "id": "ef9c074c-b453-46b0-9c30-fb42b241330c",
   "metadata": {},
   "outputs": [],
   "source": [
    "# Accuracy calculation function\n",
    "def accuracy(conf_matrix):\n",
    "    return (np.diag(conf_matrix).sum() / conf_matrix.sum()) * 100"
   ]
  },
  {
   "cell_type": "code",
   "execution_count": 17,
   "id": "9bd22223-cc04-4576-99d9-758315efa4f1",
   "metadata": {},
   "outputs": [
    {
     "name": "stdout",
     "output_type": "stream",
     "text": [
      "Accuracy: 97.07317073170731\n"
     ]
    }
   ],
   "source": [
    "# Calculate accuracy\n",
    "accuracy_value = accuracy(conf_matrix)\n",
    "print(\"Accuracy:\", accuracy_value)"
   ]
  },
  {
   "cell_type": "code",
   "execution_count": 19,
   "id": "ef6946cc-cda7-44fc-b374-43c79ca29c93",
   "metadata": {},
   "outputs": [
    {
     "name": "stdout",
     "output_type": "stream",
     "text": [
      "-96.07317073170731\n"
     ]
    }
   ],
   "source": [
    "# Error rate\n",
    "error_rate = 100 - accuracy_value\n",
    "print(error_rate)"
   ]
  },
  {
   "cell_type": "code",
   "execution_count": null,
   "id": "7c176a1c-af0d-44d5-9bf9-345034658900",
   "metadata": {},
   "outputs": [],
   "source": []
  }
 ],
 "metadata": {
  "kernelspec": {
   "display_name": "Python 3 (ipykernel)",
   "language": "python",
   "name": "python3"
  },
  "language_info": {
   "codemirror_mode": {
    "name": "ipython",
    "version": 3
   },
   "file_extension": ".py",
   "mimetype": "text/x-python",
   "name": "python",
   "nbconvert_exporter": "python",
   "pygments_lexer": "ipython3",
   "version": "3.12.0"
  }
 },
 "nbformat": 4,
 "nbformat_minor": 5
}
